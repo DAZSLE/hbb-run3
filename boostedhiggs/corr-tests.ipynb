{
 "cells": [
  {
   "cell_type": "code",
   "execution_count": 1,
   "id": "6ffc4715-fc9d-4d5c-ac7c-4b5b071c6f34",
   "metadata": {},
   "outputs": [],
   "source": [
    "from __future__ import annotations\n",
    "\n",
    "import gzip\n",
    "import pathlib\n",
    "import pickle\n",
    "import random\n",
    "from pathlib import Path\n",
    "\n",
    "import awkward as ak\n",
    "import correctionlib\n",
    "import numpy as np\n",
    "import uproot\n",
    "from coffea.analysis_tools import Weights\n",
    "from coffea.lookup_tools.dense_lookup import dense_lookup\n",
    "from coffea.nanoevents.methods import vector\n",
    "from coffea.nanoevents.methods.base import NanoEventsArray\n",
    "from coffea.nanoevents.methods.nanoaod import FatJetArray, JetArray, MuonArray\n",
    "\n",
    "# Important Run3 start of Run\n",
    "FirstRun_2022C = 355794\n",
    "FirstRun_2022D = 357487\n",
    "LastRun_2022D = 359021\n",
    "FirstRun_2022E = 359022\n",
    "LastRun_2022F = 362180"
   ]
  },
  {
   "cell_type": "code",
   "execution_count": 2,
   "id": "ff20251e-bdff-4056-b8e1-9150b45b49ea",
   "metadata": {},
   "outputs": [],
   "source": [
    "pog_correction_path = \"/cvmfs/cms.cern.ch/rsync/cms-nanoAOD/jsonpog-integration/\"\n",
    "pog_jsons = {\n",
    "    \"muon\": [\"MUO\", \"muon_Z.json.gz\"],\n",
    "    \"electron\": [\"EGM\", \"electron.json.gz\"],\n",
    "    \"pileup\": [\"LUM\", \"puWeights.json.gz\"],\n",
    "    \"fatjet_jec\": [\"JME\", \"fatJet_jerc.json.gz\"],\n",
    "    \"jet_jec\": [\"JME\", \"jet_jerc.json.gz\"],\n",
    "    \"jmar\": [\"JME\", \"jmar.json.gz\"],\n",
    "    \"jetveto\": [\"JME\", \"jetvetomaps.json.gz\"],\n",
    "    \"btagging\": [\"BTV\", \"btagging.json.gz\"],\n",
    "}\n",
    "\n",
    "def get_pog_json(obj: str, year: str) -> str:\n",
    "    try:\n",
    "        pog_json = pog_jsons[obj]\n",
    "    except:\n",
    "        print(f\"No json for {obj}\")\n",
    "\n",
    "    year = {\n",
    "        \"2016\": \"2016postVFP_UL\",\n",
    "        \"2016APV\": \"2016preVFP_UL\",  \n",
    "        \"2017\": \"2017_UL\",  \n",
    "        \"2018\": \"2018_UL\",  \n",
    "        \"2022\": \"2022_Summer22\",\n",
    "        \"2022EE\": \"2022_Summer22EE\",\n",
    "        \"2023\": \"2023_Summer23\",\n",
    "        \"2023BPix\": \"2023_Summer23BPix\",\n",
    "    }[year]\n",
    "\n",
    "    return f\"{pog_correction_path}/POG/{pog_json[0]}/{year}/{pog_json[1]}\""
   ]
  },
  {
   "cell_type": "code",
   "execution_count": 3,
   "id": "56bbc0d2-f0b5-4df2-9f42-3febb3da9311",
   "metadata": {},
   "outputs": [
    {
     "data": {
      "text/plain": [
       "['Summer19UL16_V1']"
      ]
     },
     "execution_count": 3,
     "metadata": {},
     "output_type": "execute_result"
    }
   ],
   "source": [
    "year=\"2016APV\"\n",
    "cset = correctionlib.CorrectionSet.from_file(get_pog_json(\"jetveto\", year))\n",
    "list(cset.keys())"
   ]
  },
  {
   "cell_type": "code",
   "execution_count": 4,
   "id": "a91fb5d3-84a5-4724-a860-525c986cc2b8",
   "metadata": {},
   "outputs": [
    {
     "data": {
      "text/plain": [
       "['Summer19UL16_V1']"
      ]
     },
     "execution_count": 4,
     "metadata": {},
     "output_type": "execute_result"
    }
   ],
   "source": [
    "year=\"2016\"\n",
    "cset = correctionlib.CorrectionSet.from_file(get_pog_json(\"jetveto\", year))\n",
    "list(cset.keys())"
   ]
  },
  {
   "cell_type": "code",
   "execution_count": 5,
   "id": "5dc6bd04-99e4-4369-8ec8-1fb54f87b1f9",
   "metadata": {},
   "outputs": [
    {
     "data": {
      "text/plain": [
       "['Summer19UL17_V1']"
      ]
     },
     "execution_count": 5,
     "metadata": {},
     "output_type": "execute_result"
    }
   ],
   "source": [
    "year=\"2017\"\n",
    "cset = correctionlib.CorrectionSet.from_file(get_pog_json(\"jetveto\", year))\n",
    "list(cset.keys())"
   ]
  },
  {
   "cell_type": "code",
   "execution_count": 6,
   "id": "4312e2a3-1b5c-4c87-b5cc-03be184b3b03",
   "metadata": {},
   "outputs": [
    {
     "data": {
      "text/plain": [
       "['Summer19UL18_V1']"
      ]
     },
     "execution_count": 6,
     "metadata": {},
     "output_type": "execute_result"
    }
   ],
   "source": [
    "year=\"2018\"\n",
    "cset = correctionlib.CorrectionSet.from_file(get_pog_json(\"jetveto\", year))\n",
    "list(cset.keys())"
   ]
  },
  {
   "cell_type": "code",
   "execution_count": 7,
   "id": "be953ecf-a3aa-42f3-bbc4-6a198c90a193",
   "metadata": {},
   "outputs": [
    {
     "data": {
      "text/plain": [
       "['deepCSV_comb',\n",
       " 'deepCSV_incl',\n",
       " 'deepCSV_mujets',\n",
       " 'deepCSV_shape',\n",
       " 'deepCSV_wp_values',\n",
       " 'deepJet_comb',\n",
       " 'deepJet_incl',\n",
       " 'deepJet_mujets',\n",
       " 'deepJet_shape',\n",
       " 'deepJet_wp_values']"
      ]
     },
     "execution_count": 7,
     "metadata": {},
     "output_type": "execute_result"
    }
   ],
   "source": [
    "year=\"2016APV\"\n",
    "cset = correctionlib.CorrectionSet.from_file(get_pog_json(\"btagging\", year))\n",
    "list(cset.keys())"
   ]
  },
  {
   "cell_type": "code",
   "execution_count": 8,
   "id": "88af7fbd-60c8-41ee-9cbb-5326e92dabef",
   "metadata": {},
   "outputs": [
    {
     "data": {
      "text/plain": [
       "['NUM_GlobalMuons_DEN_genTracks',\n",
       " 'NUM_HighPtID_DEN_TrackerMuons',\n",
       " 'NUM_HighPtID_DEN_genTracks',\n",
       " 'NUM_IsoMu24_or_IsoTkMu24_DEN_CutBasedIdTight_and_PFIsoTight',\n",
       " 'NUM_LooseID_DEN_TrackerMuons',\n",
       " 'NUM_LooseID_DEN_genTracks',\n",
       " 'NUM_LooseRelIso_DEN_LooseID',\n",
       " 'NUM_LooseRelIso_DEN_MediumID',\n",
       " 'NUM_LooseRelIso_DEN_MediumPromptID',\n",
       " 'NUM_LooseRelIso_DEN_TightIDandIPCut',\n",
       " 'NUM_LooseRelTkIso_DEN_HighPtIDandIPCut',\n",
       " 'NUM_LooseRelTkIso_DEN_TrkHighPtIDandIPCut',\n",
       " 'NUM_MediumID_DEN_TrackerMuons',\n",
       " 'NUM_MediumID_DEN_genTracks',\n",
       " 'NUM_MediumPromptID_DEN_TrackerMuons',\n",
       " 'NUM_MediumPromptID_DEN_genTracks',\n",
       " 'NUM_Mu50_or_TkMu50_DEN_CutBasedIdGlobalHighPt_and_TkIsoLoose',\n",
       " 'NUM_SoftID_DEN_TrackerMuons',\n",
       " 'NUM_SoftID_DEN_genTracks',\n",
       " 'NUM_TightID_DEN_TrackerMuons',\n",
       " 'NUM_TightID_DEN_genTracks',\n",
       " 'NUM_TightRelIso_DEN_MediumID',\n",
       " 'NUM_TightRelIso_DEN_MediumPromptID',\n",
       " 'NUM_TightRelIso_DEN_TightIDandIPCut',\n",
       " 'NUM_TightRelTkIso_DEN_HighPtIDandIPCut',\n",
       " 'NUM_TightRelTkIso_DEN_TrkHighPtIDandIPCut',\n",
       " 'NUM_TrackerMuons_DEN_genTracks',\n",
       " 'NUM_TrkHighPtID_DEN_TrackerMuons',\n",
       " 'NUM_TrkHighPtID_DEN_genTracks']"
      ]
     },
     "execution_count": 8,
     "metadata": {},
     "output_type": "execute_result"
    }
   ],
   "source": [
    "year=\"2016\"\n",
    "cset = correctionlib.CorrectionSet.from_file(get_pog_json(\"muon\", year))\n",
    "list(cset.keys())"
   ]
  },
  {
   "cell_type": "code",
   "execution_count": 9,
   "id": "014aa964-bf9a-430c-8977-082d768fe53d",
   "metadata": {},
   "outputs": [
    {
     "data": {
      "text/plain": [
       "array([0.9941142])"
      ]
     },
     "execution_count": 9,
     "metadata": {},
     "output_type": "execute_result"
    }
   ],
   "source": [
    "cset['NUM_MediumPromptID_DEN_TrackerMuons'].evaluate(\"2016postVFP_UL\",[1],[100],\"sf\")"
   ]
  },
  {
   "cell_type": "code",
   "execution_count": 10,
   "id": "412d1ba6-ba95-4baf-8d6f-dc2f37afc23b",
   "metadata": {},
   "outputs": [
    {
     "data": {
      "text/plain": [
       "array([0.99619073])"
      ]
     },
     "execution_count": 10,
     "metadata": {},
     "output_type": "execute_result"
    }
   ],
   "source": [
    "cset['NUM_MediumPromptID_DEN_TrackerMuons'].evaluate(\"2016postVFP_UL\",[1],[100],\"systup\")"
   ]
  },
  {
   "cell_type": "code",
   "execution_count": 11,
   "id": "40b98cb9-fa04-4ceb-a00d-a2a6ee6a9f2f",
   "metadata": {},
   "outputs": [
    {
     "data": {
      "text/plain": [
       "array([0.99203768])"
      ]
     },
     "execution_count": 11,
     "metadata": {},
     "output_type": "execute_result"
    }
   ],
   "source": [
    "cset['NUM_MediumPromptID_DEN_TrackerMuons'].evaluate(\"2016postVFP_UL\",[1],[100],\"systdown\")"
   ]
  },
  {
   "cell_type": "code",
   "execution_count": 12,
   "id": "ccb533c1-173e-4080-9131-3106edb64caa",
   "metadata": {},
   "outputs": [],
   "source": [
    "jec_compiled = \"data/jec_compiled_run2.pkl.gz\""
   ]
  },
  {
   "cell_type": "code",
   "execution_count": 13,
   "id": "4febfe06-3cd7-4c51-adf2-475d53a67830",
   "metadata": {},
   "outputs": [
    {
     "name": "stderr",
     "output_type": "stream",
     "text": [
      "/tmp/ipykernel_1157/1434799976.py:3: DeprecationWarning: Please use `interp1d` from the `scipy.interpolate` namespace, the `scipy.interpolate.interpolate` namespace is deprecated.\n",
      "  jmestuff = pickle.load(filehandler)\n"
     ]
    }
   ],
   "source": [
    "if jec_compiled is not None:\n",
    "            with gzip.open(jec_compiled, \"rb\") as filehandler:\n",
    "                jmestuff = pickle.load(filehandler)"
   ]
  },
  {
   "cell_type": "code",
   "execution_count": 14,
   "id": "82273965-2b63-4b0a-b294-a2ee47363e38",
   "metadata": {},
   "outputs": [
    {
     "data": {
      "text/plain": [
       "{'jet_factory': {'2016preVFPmc': <coffea.jetmet_tools.CorrectedJetsFactory.CorrectedJetsFactory at 0x7fd28654f820>,\n",
       "  '2016preVFPmcNOJER': <coffea.jetmet_tools.CorrectedJetsFactory.CorrectedJetsFactory at 0x7fd285192800>,\n",
       "  '2016postVFPmc': <coffea.jetmet_tools.CorrectedJetsFactory.CorrectedJetsFactory at 0x7fd2851fe650>,\n",
       "  '2016postVFPmcNOJER': <coffea.jetmet_tools.CorrectedJetsFactory.CorrectedJetsFactory at 0x7fd283dff8e0>,\n",
       "  '2017mc': <coffea.jetmet_tools.CorrectedJetsFactory.CorrectedJetsFactory at 0x7fd283c6f7f0>,\n",
       "  '2017mcNOJER': <coffea.jetmet_tools.CorrectedJetsFactory.CorrectedJetsFactory at 0x7fd2827523e0>,\n",
       "  '2018mc': <coffea.jetmet_tools.CorrectedJetsFactory.CorrectedJetsFactory at 0x7fd2827bee30>,\n",
       "  '2018mcNOJER': <coffea.jetmet_tools.CorrectedJetsFactory.CorrectedJetsFactory at 0x7fd2812b7c70>},\n",
       " 'fatjet_factory': {'2016preVFPmc': <coffea.jetmet_tools.CorrectedJetsFactory.CorrectedJetsFactory at 0x7fd281127b80>,\n",
       "  '2016preVFPmcNOJER': <coffea.jetmet_tools.CorrectedJetsFactory.CorrectedJetsFactory at 0x7fd27fd92c80>,\n",
       "  '2016postVFPmc': <coffea.jetmet_tools.CorrectedJetsFactory.CorrectedJetsFactory at 0x7fd27fdfe980>,\n",
       "  '2016postVFPmcNOJER': <coffea.jetmet_tools.CorrectedJetsFactory.CorrectedJetsFactory at 0x7fd27e879a50>,\n",
       "  '2017mc': <coffea.jetmet_tools.CorrectedJetsFactory.CorrectedJetsFactory at 0x7fd27e8e1750>,\n",
       "  '2017mcNOJER': <coffea.jetmet_tools.CorrectedJetsFactory.CorrectedJetsFactory at 0x7fd27d3cc250>,\n",
       "  '2018mc': <coffea.jetmet_tools.CorrectedJetsFactory.CorrectedJetsFactory at 0x7fd27d238b50>,\n",
       "  '2018mcNOJER': <coffea.jetmet_tools.CorrectedJetsFactory.CorrectedJetsFactory at 0x7fd27bd3d780>},\n",
       " 'met_factory': <coffea.jetmet_tools.CorrectedMETFactory.CorrectedMETFactory at 0x7fd27bda14e0>}"
      ]
     },
     "execution_count": 14,
     "metadata": {},
     "output_type": "execute_result"
    }
   ],
   "source": [
    "jmestuff"
   ]
  },
  {
   "cell_type": "code",
   "execution_count": 15,
   "id": "5546e3ee-7f2e-41a7-a8e7-2d154db57eb6",
   "metadata": {},
   "outputs": [],
   "source": [
    "jet_factory = {}\n",
    "met_factory = None\n",
    "\n",
    "jet_factory[\"ak4\"] = jmestuff[\"jet_factory\"]\n",
    "jet_factory[\"ak8\"] = jmestuff[\"fatjet_factory\"]\n",
    "met_factory = jmestuff[\"met_factory\"]"
   ]
  },
  {
   "cell_type": "code",
   "execution_count": 16,
   "id": "30ee729a-bdf9-47a7-81d6-bc6eb963d357",
   "metadata": {},
   "outputs": [
    {
     "data": {
      "text/plain": [
       "{'2016preVFPmc': <coffea.jetmet_tools.CorrectedJetsFactory.CorrectedJetsFactory at 0x7fd281127b80>,\n",
       " '2016preVFPmcNOJER': <coffea.jetmet_tools.CorrectedJetsFactory.CorrectedJetsFactory at 0x7fd27fd92c80>,\n",
       " '2016postVFPmc': <coffea.jetmet_tools.CorrectedJetsFactory.CorrectedJetsFactory at 0x7fd27fdfe980>,\n",
       " '2016postVFPmcNOJER': <coffea.jetmet_tools.CorrectedJetsFactory.CorrectedJetsFactory at 0x7fd27e879a50>,\n",
       " '2017mc': <coffea.jetmet_tools.CorrectedJetsFactory.CorrectedJetsFactory at 0x7fd27e8e1750>,\n",
       " '2017mcNOJER': <coffea.jetmet_tools.CorrectedJetsFactory.CorrectedJetsFactory at 0x7fd27d3cc250>,\n",
       " '2018mc': <coffea.jetmet_tools.CorrectedJetsFactory.CorrectedJetsFactory at 0x7fd27d238b50>,\n",
       " '2018mcNOJER': <coffea.jetmet_tools.CorrectedJetsFactory.CorrectedJetsFactory at 0x7fd27bd3d780>}"
      ]
     },
     "execution_count": 16,
     "metadata": {},
     "output_type": "execute_result"
    }
   ],
   "source": [
    "jet_factory[\"ak8\"]"
   ]
  },
  {
   "cell_type": "code",
   "execution_count": 17,
   "id": "d848a3d5-f216-447d-8a89-38493afc89d9",
   "metadata": {},
   "outputs": [
    {
     "data": {
      "text/plain": [
       "{'2016preVFPmc': <coffea.jetmet_tools.CorrectedJetsFactory.CorrectedJetsFactory at 0x7fd28654f820>,\n",
       " '2016preVFPmcNOJER': <coffea.jetmet_tools.CorrectedJetsFactory.CorrectedJetsFactory at 0x7fd285192800>,\n",
       " '2016postVFPmc': <coffea.jetmet_tools.CorrectedJetsFactory.CorrectedJetsFactory at 0x7fd2851fe650>,\n",
       " '2016postVFPmcNOJER': <coffea.jetmet_tools.CorrectedJetsFactory.CorrectedJetsFactory at 0x7fd283dff8e0>,\n",
       " '2017mc': <coffea.jetmet_tools.CorrectedJetsFactory.CorrectedJetsFactory at 0x7fd283c6f7f0>,\n",
       " '2017mcNOJER': <coffea.jetmet_tools.CorrectedJetsFactory.CorrectedJetsFactory at 0x7fd2827523e0>,\n",
       " '2018mc': <coffea.jetmet_tools.CorrectedJetsFactory.CorrectedJetsFactory at 0x7fd2827bee30>,\n",
       " '2018mcNOJER': <coffea.jetmet_tools.CorrectedJetsFactory.CorrectedJetsFactory at 0x7fd2812b7c70>}"
      ]
     },
     "execution_count": 17,
     "metadata": {},
     "output_type": "execute_result"
    }
   ],
   "source": [
    "jet_factory[\"ak4\"]"
   ]
  },
  {
   "cell_type": "code",
   "execution_count": 18,
   "id": "2e0a280e-361b-4508-b8df-5b3027816b7d",
   "metadata": {},
   "outputs": [],
   "source": []
  },
  {
   "cell_type": "code",
   "execution_count": 19,
   "id": "e77bc693-d5a1-48a9-898f-9cf7636c1038",
   "metadata": {},
   "outputs": [
    {
     "ename": "AttributeError",
     "evalue": "Can't get attribute '_function_setstate' on <module 'cloudpickle.cloudpickle' from '/opt/conda/lib/python3.10/site-packages/cloudpickle/cloudpickle.py'>",
     "output_type": "error",
     "traceback": [
      "\u001b[0;31m---------------------------------------------------------------------------\u001b[0m",
      "\u001b[0;31mAttributeError\u001b[0m                            Traceback (most recent call last)",
      "Cell \u001b[0;32mIn[19], line 3\u001b[0m\n\u001b[1;32m      1\u001b[0m \u001b[38;5;28;01mif\u001b[39;00m jec_compiled \u001b[38;5;129;01mis\u001b[39;00m \u001b[38;5;129;01mnot\u001b[39;00m \u001b[38;5;28;01mNone\u001b[39;00m:\n\u001b[1;32m      2\u001b[0m         \u001b[38;5;28;01mwith\u001b[39;00m gzip\u001b[38;5;241m.\u001b[39mopen(jec_compiled, \u001b[38;5;124m\"\u001b[39m\u001b[38;5;124mrb\u001b[39m\u001b[38;5;124m\"\u001b[39m) \u001b[38;5;28;01mas\u001b[39;00m filehandler:\n\u001b[0;32m----> 3\u001b[0m             jmestuff \u001b[38;5;241m=\u001b[39m \u001b[43mpickle\u001b[49m\u001b[38;5;241;43m.\u001b[39;49m\u001b[43mload\u001b[49m\u001b[43m(\u001b[49m\u001b[43mfilehandler\u001b[49m\u001b[43m)\u001b[49m\n",
      "\u001b[0;31mAttributeError\u001b[0m: Can't get attribute '_function_setstate' on <module 'cloudpickle.cloudpickle' from '/opt/conda/lib/python3.10/site-packages/cloudpickle/cloudpickle.py'>"
     ]
    }
   ],
   "source": [
    "if jec_compiled is not None:\n",
    "        with gzip.open(jec_compiled, \"rb\") as filehandler:\n",
    "            jmestuff = pickle.load(filehandler)"
   ]
  },
  {
   "cell_type": "code",
   "execution_count": 23,
   "id": "fa1a1b6e-70f9-4eed-94ce-67c9440b060b",
   "metadata": {},
   "outputs": [
    {
     "ename": "AttributeError",
     "evalue": "Can't get attribute '_function_setstate' on <module 'cloudpickle.cloudpickle' from '/opt/conda/lib/python3.10/site-packages/cloudpickle/cloudpickle.py'>",
     "output_type": "error",
     "traceback": [
      "\u001b[0;31m---------------------------------------------------------------------------\u001b[0m",
      "\u001b[0;31mAttributeError\u001b[0m                            Traceback (most recent call last)",
      "Cell \u001b[0;32mIn[23], line 3\u001b[0m\n\u001b[1;32m      1\u001b[0m jec_compiled \u001b[38;5;241m=\u001b[39m \u001b[38;5;124m\"\u001b[39m\u001b[38;5;124mdata/jec_compiled.pkl.gz\u001b[39m\u001b[38;5;124m\"\u001b[39m\n\u001b[1;32m      2\u001b[0m \u001b[38;5;28;01mwith\u001b[39;00m gzip\u001b[38;5;241m.\u001b[39mopen(jec_compiled) \u001b[38;5;28;01mas\u001b[39;00m fin:\n\u001b[0;32m----> 3\u001b[0m     compiled \u001b[38;5;241m=\u001b[39m \u001b[43mpickle\u001b[49m\u001b[38;5;241;43m.\u001b[39;49m\u001b[43mload\u001b[49m\u001b[43m(\u001b[49m\u001b[43mfin\u001b[49m\u001b[43m)\u001b[49m\n",
      "\u001b[0;31mAttributeError\u001b[0m: Can't get attribute '_function_setstate' on <module 'cloudpickle.cloudpickle' from '/opt/conda/lib/python3.10/site-packages/cloudpickle/cloudpickle.py'>"
     ]
    }
   ],
   "source": [
    "jec_compiled = \"data/jec_compiled.pkl.gz\"\n",
    "with gzip.open(jec_compiled) as fin:\n",
    "    compiled = pickle.load(fin)"
   ]
  },
  {
   "cell_type": "code",
   "execution_count": null,
   "id": "3c365c5e-c9c8-4972-8cdd-46b468cdb530",
   "metadata": {},
   "outputs": [],
   "source": []
  }
 ],
 "metadata": {
  "kernelspec": {
   "display_name": "Python 3 (ipykernel)",
   "language": "python",
   "name": "python3"
  },
  "language_info": {
   "codemirror_mode": {
    "name": "ipython",
    "version": 3
   },
   "file_extension": ".py",
   "mimetype": "text/x-python",
   "name": "python",
   "nbconvert_exporter": "python",
   "pygments_lexer": "ipython3",
   "version": "3.10.8"
  }
 },
 "nbformat": 4,
 "nbformat_minor": 5
}
